{
 "cells": [
  {
   "cell_type": "markdown",
   "metadata": {},
   "source": [
    "## 1. Play the TicTacToe Game"
   ]
  },
  {
   "cell_type": "code",
   "execution_count": 37,
   "metadata": {},
   "outputs": [],
   "source": [
    "import random\n",
    "import pandas as pd\n",
    "import numpy as np"
   ]
  },
  {
   "cell_type": "code",
   "execution_count": 38,
   "metadata": {},
   "outputs": [],
   "source": [
    "class Game:\n",
    "    def __init__(self, playerX, player0):\n",
    "        self.board = [\n",
    "            [None,None,None],\n",
    "            [None,None,None],\n",
    "            [None,None,None],\n",
    "        ]\n",
    "        self._playerX = playerX\n",
    "        self._player0 = player0\n",
    "        self.game_not_over = True\n",
    "        self.current_player = playerX\n",
    "    \n",
    "    def run(self):\n",
    "        while self.game_not_over:\n",
    "            winner = self.make_move(self.board,self.current_player)\n",
    "        return winner\n",
    "    def get_winner(self,board):\n",
    "        \"\"\"Determines the winner of the given board.\n",
    "        Returns 'X', 'O', or None.\"\"\"\n",
    "        #0~2 record 1~3 rows, 3~5 record 1~3 columns, 6,7 record crosses\n",
    "        self.sameChessSum = [0 for i in range(8)]\n",
    "        for i in range(3):\n",
    "            for j in range(3):\n",
    "                if board[j][i] == \"X\":\n",
    "                    self.sameChessSum[j] += 1\n",
    "                elif board[j][i]==\"O\":\n",
    "                    self.sameChessSum[j] -=1\n",
    "\n",
    "                if board[i][j] == \"X\":\n",
    "                    self.sameChessSum[j+3] += 1\n",
    "                elif board[i][j]==\"O\":\n",
    "                    self.sameChessSum[j+3] -=1\n",
    "            if board[i][i] == \"X\":\n",
    "                self.sameChessSum[6] += 1\n",
    "            elif board[i][i]==\"O\":\n",
    "                self.sameChessSum[6]-=1\n",
    "\n",
    "            if board[i][2 - i] == \"X\":\n",
    "                self.sameChessSum[7] += 1\n",
    "            elif board[i][2-i]==\"O\":\n",
    "                self.sameChessSum[7]-=1\n",
    "        if 3 in self.sameChessSum:\n",
    "            return \"X\"\n",
    "        elif -3 in self.sameChessSum:\n",
    "            return \"O\"\n",
    "        else:\n",
    "            return None\n",
    "\n",
    "    def other_player(self,player):\n",
    "        \"\"\"Given the character for a player, returns the other player.\"\"\"\n",
    "        if player==self._player0:\n",
    "            return self._playerX\n",
    "        elif player==self._playerX:\n",
    "            return self._player0\n",
    "\n",
    "    #transfer the game board format for output\n",
    "    def getprintBoard(self,board): #变成字符输出\n",
    "        outBoard=\"\" #告诉python这个outboard要存储一个字符串\n",
    "        for i in range(len(board)):\n",
    "            outBoard+=\"\".join([v if v is not None else \".\" for v in board[i]])+\"\\n\" # “”.oin是把列表里所有的元素拼在一起\n",
    "        return outBoard\n",
    "\n",
    "    #format input\n",
    "    def transferInput(self,instream): #把用户输入的字符串转换为系统能够识别的坐标\n",
    "        try:\n",
    "            x, y = map(int, instream.split(\",\"))\n",
    "        except:\n",
    "            return -1,-1\n",
    "        #Transfer input coordinate to list index\n",
    "        return x, y\n",
    "\n",
    "    #check transferred input\n",
    "    def checkInput(self,x,y,board): #判断用户输入的坐标o不ok\n",
    "\n",
    "        if not ((x in range(3)) and (y in range(3))):\n",
    "            #print(\"Input a wrong coordinate, the input x,y both in range (1,3)!\")\n",
    "            return -1,-1\n",
    "        elif board[x][y] is not None:\n",
    "            #print(\"There already is a chess on that position!\")\n",
    "            return -1,-1\n",
    "        else:\n",
    "            return x,y\n",
    "    #Get input in string format\n",
    "    def getInput(self, instream,board):\n",
    "        x, y = self.transferInput(instream)\n",
    "        x, y = self.checkInput(x, y,board)\n",
    "        return x,y\n",
    "\n",
    "    #Perform a move on the board\n",
    "    def moveChess(self, player,x,y,board):\n",
    "        board[x][y]=player.name\n",
    "\n",
    "    def make_move(self, board, current_player):\n",
    "        # TODO: Show the board to the user.\n",
    "        print(self.getprintBoard(board))\n",
    "        # TODO: Input a move from the player.\n",
    "        x, y = current_player.get_move(self)\n",
    "        if x == -1:\n",
    "            print(\"Please input a valid position!\")\n",
    "            return\n",
    "        # TODO: Update the board.\n",
    "        self.moveChess(current_player, x, y, board)\n",
    "        # TODO: Update who's turn it is.\n",
    "        winner = self.get_winner(board)\n",
    "        if winner is None and any([v is None for row in self.board for v in row]):\n",
    "            self.current_player = self.other_player(current_player)\n",
    "        else:\n",
    "            self.game_not_over = False\n",
    "            if winner is not None:\n",
    "                print(\"Player %s win!\" % current_player.name)\n",
    "                return winner\n",
    "            else:\n",
    "                print(\"Draw!\")\n",
    "                return winner\n",
    "            print(self.getprintBoard(board))\n"
   ]
  },
  {
   "cell_type": "code",
   "execution_count": 39,
   "metadata": {},
   "outputs": [],
   "source": [
    "class Human:\n",
    "    def __init__(self, name):\n",
    "        self.name = name\n",
    "\n",
    "    def get_move(self,game):\n",
    "        instream = input(\"Player{} please choose a position in format x,y to place chess:\".format(self.name))\n",
    "        x, y = game.getInput(instream, game.board)\n",
    "        return x,y\n",
    "    \n",
    "    def __repr__(self):\n",
    "        return str(self.name)"
   ]
  },
  {
   "cell_type": "code",
   "execution_count": 40,
   "metadata": {},
   "outputs": [],
   "source": [
    "class Bot(Human):\n",
    "    def __init__(self, name):\n",
    "        super().__init__(name)\n",
    "\n",
    "    def get_move(self,game):\n",
    "        available_positions = [\n",
    "            (i, j)\n",
    "            for i in range(len(game.board))\n",
    "            for j in range(len(game.board[i]))\n",
    "            if game.board[i][j] is None\n",
    "        ]\n",
    "        return random.choice(available_positions)"
   ]
  },
  {
   "cell_type": "code",
   "execution_count": 48,
   "metadata": {},
   "outputs": [
    {
     "data": {
      "text/html": [
       "<div>\n",
       "<style scoped>\n",
       "    .dataframe tbody tr th:only-of-type {\n",
       "        vertical-align: middle;\n",
       "    }\n",
       "\n",
       "    .dataframe tbody tr th {\n",
       "        vertical-align: top;\n",
       "    }\n",
       "\n",
       "    .dataframe thead th {\n",
       "        text-align: right;\n",
       "    }\n",
       "</style>\n",
       "<table border=\"1\" class=\"dataframe\">\n",
       "  <thead>\n",
       "    <tr style=\"text-align: right;\">\n",
       "      <th></th>\n",
       "      <th>Round</th>\n",
       "      <th>Player 1</th>\n",
       "      <th>Player 2</th>\n",
       "      <th>Winner</th>\n",
       "    </tr>\n",
       "  </thead>\n",
       "  <tbody>\n",
       "  </tbody>\n",
       "</table>\n",
       "</div>"
      ],
      "text/plain": [
       "Empty DataFrame\n",
       "Columns: [Round, Player 1, Player 2, Winner]\n",
       "Index: []"
      ]
     },
     "execution_count": 48,
     "metadata": {},
     "output_type": "execute_result"
    }
   ],
   "source": [
    "games = pd.DataFrame(columns = [ \n",
    "  \"Round\",\n",
    "  \"Player 1\",\n",
    "  \"Player 2\",\n",
    "  \"Winner\",\n",
    "])\n",
    "games"
   ]
  },
  {
   "cell_type": "code",
   "execution_count": 49,
   "metadata": {},
   "outputs": [],
   "source": [
    "def add_game(player1,player2,winner): \n",
    "    games.loc[len(games)] = { \n",
    "        \"Round\":len(games)+1,\n",
    "        \"Player 1\": player1,\n",
    "        \"Player 2\": player2,\n",
    "        \"Winner\":winner\n",
    "    }"
   ]
  },
  {
   "cell_type": "code",
   "execution_count": 73,
   "metadata": {},
   "outputs": [],
   "source": [
    "player1 = \"X\"\n",
    "player2 = \"O\""
   ]
  },
  {
   "cell_type": "code",
   "execution_count": null,
   "metadata": {},
   "outputs": [],
   "source": [
    "game = Game(Human('X'),Bot('O'))\n",
    "winner = game.run()\n",
    "add_game(player1,player2,winner)"
   ]
  },
  {
   "cell_type": "code",
   "execution_count": null,
   "metadata": {},
   "outputs": [],
   "source": [
    "games"
   ]
  },
  {
   "cell_type": "code",
   "execution_count": null,
   "metadata": {},
   "outputs": [],
   "source": [
    "games.to_csv(\"./data.csv\")"
   ]
  },
  {
   "cell_type": "code",
   "execution_count": null,
   "metadata": {},
   "outputs": [],
   "source": []
  },
  {
   "cell_type": "markdown",
   "metadata": {},
   "source": [
    "## 2. Draw the plot"
   ]
  },
  {
   "cell_type": "code",
   "execution_count": 149,
   "metadata": {},
   "outputs": [
    {
     "data": {
      "text/html": [
       "<div>\n",
       "<style scoped>\n",
       "    .dataframe tbody tr th:only-of-type {\n",
       "        vertical-align: middle;\n",
       "    }\n",
       "\n",
       "    .dataframe tbody tr th {\n",
       "        vertical-align: top;\n",
       "    }\n",
       "\n",
       "    .dataframe thead th {\n",
       "        text-align: right;\n",
       "    }\n",
       "</style>\n",
       "<table border=\"1\" class=\"dataframe\">\n",
       "  <thead>\n",
       "    <tr style=\"text-align: right;\">\n",
       "      <th></th>\n",
       "      <th>Unnamed: 0</th>\n",
       "      <th>Round</th>\n",
       "      <th>Player 1</th>\n",
       "      <th>Player 2</th>\n",
       "      <th>Winner</th>\n",
       "    </tr>\n",
       "  </thead>\n",
       "  <tbody>\n",
       "    <tr>\n",
       "      <th>0</th>\n",
       "      <td>0</td>\n",
       "      <td>1</td>\n",
       "      <td>X</td>\n",
       "      <td>O</td>\n",
       "      <td>X</td>\n",
       "    </tr>\n",
       "    <tr>\n",
       "      <th>1</th>\n",
       "      <td>1</td>\n",
       "      <td>2</td>\n",
       "      <td>X</td>\n",
       "      <td>O</td>\n",
       "      <td>X</td>\n",
       "    </tr>\n",
       "    <tr>\n",
       "      <th>2</th>\n",
       "      <td>2</td>\n",
       "      <td>3</td>\n",
       "      <td>X</td>\n",
       "      <td>O</td>\n",
       "      <td>X</td>\n",
       "    </tr>\n",
       "    <tr>\n",
       "      <th>3</th>\n",
       "      <td>3</td>\n",
       "      <td>4</td>\n",
       "      <td>X</td>\n",
       "      <td>O</td>\n",
       "      <td>O</td>\n",
       "    </tr>\n",
       "    <tr>\n",
       "      <th>4</th>\n",
       "      <td>4</td>\n",
       "      <td>5</td>\n",
       "      <td>X</td>\n",
       "      <td>O</td>\n",
       "      <td>O</td>\n",
       "    </tr>\n",
       "    <tr>\n",
       "      <th>5</th>\n",
       "      <td>5</td>\n",
       "      <td>6</td>\n",
       "      <td>X</td>\n",
       "      <td>O</td>\n",
       "      <td>X</td>\n",
       "    </tr>\n",
       "    <tr>\n",
       "      <th>6</th>\n",
       "      <td>6</td>\n",
       "      <td>7</td>\n",
       "      <td>X</td>\n",
       "      <td>O</td>\n",
       "      <td>O</td>\n",
       "    </tr>\n",
       "    <tr>\n",
       "      <th>7</th>\n",
       "      <td>7</td>\n",
       "      <td>8</td>\n",
       "      <td>X</td>\n",
       "      <td>O</td>\n",
       "      <td>O</td>\n",
       "    </tr>\n",
       "    <tr>\n",
       "      <th>8</th>\n",
       "      <td>8</td>\n",
       "      <td>9</td>\n",
       "      <td>X</td>\n",
       "      <td>O</td>\n",
       "      <td>X</td>\n",
       "    </tr>\n",
       "    <tr>\n",
       "      <th>9</th>\n",
       "      <td>9</td>\n",
       "      <td>10</td>\n",
       "      <td>X</td>\n",
       "      <td>O</td>\n",
       "      <td>O</td>\n",
       "    </tr>\n",
       "  </tbody>\n",
       "</table>\n",
       "</div>"
      ],
      "text/plain": [
       "   Unnamed: 0  Round Player 1 Player 2 Winner\n",
       "0           0      1        X        O      X\n",
       "1           1      2        X        O      X\n",
       "2           2      3        X        O      X\n",
       "3           3      4        X        O      O\n",
       "4           4      5        X        O      O\n",
       "5           5      6        X        O      X\n",
       "6           6      7        X        O      O\n",
       "7           7      8        X        O      O\n",
       "8           8      9        X        O      X\n",
       "9           9     10        X        O      O"
      ]
     },
     "execution_count": 149,
     "metadata": {},
     "output_type": "execute_result"
    }
   ],
   "source": [
    "data = pd.read_csv(\"/Users/mac/Desktop/data.csv\")\n",
    "data"
   ]
  },
  {
   "cell_type": "code",
   "execution_count": 150,
   "metadata": {},
   "outputs": [
    {
     "data": {
      "text/plain": [
       "<AxesSubplot:xlabel='Round', ylabel='Winner'>"
      ]
     },
     "execution_count": 150,
     "metadata": {},
     "output_type": "execute_result"
    },
    {
     "data": {
      "image/png": "[encoded data removed]",
      "text/plain": [
       "<Figure size 432x288 with 1 Axes>"
      ]
     },
     "metadata": {
      "needs_background": "light"
     },
     "output_type": "display_data"
    }
   ],
   "source": [
    "data.plot.scatter(x=\"Round\",y=\"Winner\")"
   ]
  },
  {
   "cell_type": "code",
   "execution_count": 171,
   "metadata": {},
   "outputs": [
    {
     "data": {
      "text/plain": [
       "array(['X', 'O'], dtype=object)"
      ]
     },
     "execution_count": 171,
     "metadata": {},
     "output_type": "execute_result"
    }
   ],
   "source": [
    "data[\"Winner\"].unique() "
   ]
  },
  {
   "cell_type": "code",
   "execution_count": 172,
   "metadata": {},
   "outputs": [
    {
     "data": {
      "text/plain": [
       "X    5\n",
       "O    5\n",
       "Name: Winner, dtype: int64"
      ]
     },
     "execution_count": 172,
     "metadata": {},
     "output_type": "execute_result"
    }
   ],
   "source": [
    "data[\"Winner\"].value_counts()"
   ]
  },
  {
   "cell_type": "code",
   "execution_count": 173,
   "metadata": {},
   "outputs": [
    {
     "data": {
      "text/html": [
       "<div>\n",
       "<style scoped>\n",
       "    .dataframe tbody tr th:only-of-type {\n",
       "        vertical-align: middle;\n",
       "    }\n",
       "\n",
       "    .dataframe tbody tr th {\n",
       "        vertical-align: top;\n",
       "    }\n",
       "\n",
       "    .dataframe thead th {\n",
       "        text-align: right;\n",
       "    }\n",
       "</style>\n",
       "<table border=\"1\" class=\"dataframe\">\n",
       "  <thead>\n",
       "    <tr style=\"text-align: right;\">\n",
       "      <th></th>\n",
       "      <th>Player</th>\n",
       "      <th>Winning_Counts</th>\n",
       "    </tr>\n",
       "  </thead>\n",
       "  <tbody>\n",
       "  </tbody>\n",
       "</table>\n",
       "</div>"
      ],
      "text/plain": [
       "Empty DataFrame\n",
       "Columns: [Player, Winning_Counts]\n",
       "Index: []"
      ]
     },
     "execution_count": 173,
     "metadata": {},
     "output_type": "execute_result"
    }
   ],
   "source": [
    "counts = pd.DataFrame(columns = [ \n",
    "  \"Player\",\n",
    "  \"Winning_Counts\",\n",
    "])\n",
    "counts"
   ]
  },
  {
   "cell_type": "code",
   "execution_count": 180,
   "metadata": {},
   "outputs": [
    {
     "data": {
      "text/html": [
       "<div>\n",
       "<style scoped>\n",
       "    .dataframe tbody tr th:only-of-type {\n",
       "        vertical-align: middle;\n",
       "    }\n",
       "\n",
       "    .dataframe tbody tr th {\n",
       "        vertical-align: top;\n",
       "    }\n",
       "\n",
       "    .dataframe thead th {\n",
       "        text-align: right;\n",
       "    }\n",
       "</style>\n",
       "<table border=\"1\" class=\"dataframe\">\n",
       "  <thead>\n",
       "    <tr style=\"text-align: right;\">\n",
       "      <th></th>\n",
       "      <th>Player</th>\n",
       "      <th>Winning_Counts</th>\n",
       "    </tr>\n",
       "  </thead>\n",
       "  <tbody>\n",
       "    <tr>\n",
       "      <th>0</th>\n",
       "      <td>X</td>\n",
       "      <td>5</td>\n",
       "    </tr>\n",
       "    <tr>\n",
       "      <th>1</th>\n",
       "      <td>O</td>\n",
       "      <td>5</td>\n",
       "    </tr>\n",
       "    <tr>\n",
       "      <th>2</th>\n",
       "      <td>X</td>\n",
       "      <td>5</td>\n",
       "    </tr>\n",
       "    <tr>\n",
       "      <th>3</th>\n",
       "      <td>O</td>\n",
       "      <td>5</td>\n",
       "    </tr>\n",
       "    <tr>\n",
       "      <th>4</th>\n",
       "      <td>X</td>\n",
       "      <td>5</td>\n",
       "    </tr>\n",
       "    <tr>\n",
       "      <th>5</th>\n",
       "      <td>O</td>\n",
       "      <td>5</td>\n",
       "    </tr>\n",
       "  </tbody>\n",
       "</table>\n",
       "</div>"
      ],
      "text/plain": [
       "  Player Winning_Counts\n",
       "0      X              5\n",
       "1      O              5\n",
       "2      X              5\n",
       "3      O              5\n",
       "4      X              5\n",
       "5      O              5"
      ]
     },
     "execution_count": 180,
     "metadata": {},
     "output_type": "execute_result"
    }
   ],
   "source": [
    "counts.loc[len(counts)] = {\n",
    "    \"Player\": \"X\",\n",
    "    \"Winning_Counts\":5,\n",
    "}\n",
    "counts.loc[len(counts)] = {\n",
    "    \"Player\": \"O\",\n",
    "    \"Winning_Counts\":5,\n",
    "}\n",
    "counts"
   ]
  },
  {
   "cell_type": "code",
   "execution_count": 181,
   "metadata": {},
   "outputs": [
    {
     "data": {
      "text/plain": [
       "<AxesSubplot:>"
      ]
     },
     "execution_count": 181,
     "metadata": {},
     "output_type": "execute_result"
    },
    {
     "data": {
      "image/png": "[encoded data removed]",
      "text/plain": [
       "<Figure size 432x288 with 1 Axes>"
      ]
     },
     "metadata": {
      "needs_background": "light"
     },
     "output_type": "display_data"
    }
   ],
   "source": [
    "counts.plot(kind = \"bar\")"
   ]
  },
  {
   "cell_type": "code",
   "execution_count": 182,
   "metadata": {},
   "outputs": [
    {
     "data": {
      "text/plain": [
       "Text(0.5, 1.0, 'Winning Counts')"
      ]
     },
     "execution_count": 182,
     "metadata": {},
     "output_type": "execute_result"
    },
    {
     "data": {
      "image/png": "[encoded data removed]",
      "text/plain": [
       "<Figure size 432x432 with 1 Axes>"
      ]
     },
     "metadata": {},
     "output_type": "display_data"
    }
   ],
   "source": [
    "import matplotlib.pyplot as plt\n",
    "plt.figure(figsize=(6,6))\n",
    "size = [5,5]\n",
    "label = ['X','O']\n",
    "plt.pie(size,labels=label)\n",
    "plt.title('Winning Counts')"
   ]
  },
  {
   "cell_type": "code",
   "execution_count": null,
   "metadata": {},
   "outputs": [],
   "source": []
  },
  {
   "cell_type": "code",
   "execution_count": null,
   "metadata": {},
   "outputs": [],
   "source": []
  }
 ],
 "metadata": {
  "kernelspec": {
   "display_name": "Python 3",
   "language": "python",
   "name": "python3"
  },
  "language_info": {
   "codemirror_mode": {
    "name": "ipython",
    "version": 3
   },
   "file_extension": ".py",
   "mimetype": "text/x-python",
   "name": "python",
   "nbconvert_exporter": "python",
   "pygments_lexer": "ipython3",
   "version": "3.8.5"
  }
 },
 "nbformat": 4,
 "nbformat_minor": 4
}
